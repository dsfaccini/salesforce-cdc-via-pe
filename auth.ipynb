{
 "cells": [
  {
   "cell_type": "code",
   "execution_count": null,
   "metadata": {},
   "outputs": [],
   "source": [
    "import asyncio\n",
    "from aiosfstream import auth\n",
    "\n",
    "from dotenv import dotenv_values\n",
    "\n",
    "config = dotenv_values(\".env\")\n",
    "consumerkey = config[\"consumerkey\"]\n",
    "consumersecret = config[\"consumersecret\"]\n",
    "username = config[\"username\"]\n",
    "password = config[\"password\"]\n",
    "david_security_token = config[\"david_security_token\"]\n",
    "\n",
    "a = auth.PasswordAuthenticator(\n",
    "    consumer_key=consumerkey,\n",
    "    consumer_secret=consumersecret,\n",
    "    username=username,\n",
    "    password=password,\n",
    "    sandbox=True,\n",
    ")\n",
    "\n",
    "display(a.access_token)\n",
    "\n",
    "await a.authenticate()\n",
    "\n",
    "display(a.access_token)\n"
   ]
  },
  {
   "cell_type": "code",
   "execution_count": null,
   "metadata": {},
   "outputs": [],
   "source": []
  }
 ],
 "metadata": {
  "kernelspec": {
   "display_name": "venv",
   "language": "python",
   "name": "python3"
  },
  "language_info": {
   "codemirror_mode": {
    "name": "ipython",
    "version": 3
   },
   "file_extension": ".py",
   "mimetype": "text/x-python",
   "name": "python",
   "nbconvert_exporter": "python",
   "pygments_lexer": "ipython3",
   "version": "3.11.2"
  }
 },
 "nbformat": 4,
 "nbformat_minor": 2
}
